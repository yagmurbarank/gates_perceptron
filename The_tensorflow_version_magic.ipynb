{
  "cells": [
    {
      "cell_type": "markdown",
      "metadata": {
        "id": "view-in-github",
        "colab_type": "text"
      },
      "source": [
        "<a href=\"https://colab.research.google.com/github/yagmurbarank/gates_perceptron/blob/main/The_tensorflow_version_magic.ipynb\" target=\"_parent\"><img src=\"https://colab.research.google.com/assets/colab-badge.svg\" alt=\"Open In Colab\"/></a>"
      ]
    },
    {
      "cell_type": "code",
      "source": [
        "import matplotlib.pyplot as plt\n",
        "import numpy as np"
      ],
      "metadata": {
        "id": "8MkfMisUP8f6"
      },
      "execution_count": 8,
      "outputs": []
    },
    {
      "cell_type": "code",
      "source": [
        "giris = np.array([[1, 1], [1, 0], [0, 1], [0, 0]])\n",
        "cikis = np.array([0, 1, 1, 0]) #ex_or\n",
        "\n",
        "# np.array([1, 0, 0, 0]) # and\n",
        "#np.array([1, 1, 1, 0]) #or\n",
        "#np.array([0, 1, 1, 0]) #ex_or"
      ],
      "metadata": {
        "id": "oV822TTdP-Sb"
      },
      "execution_count": 9,
      "outputs": []
    },
    {
      "cell_type": "code",
      "source": [
        "plt.title('XOR KAPISI', fontsize=16)\n",
        "plt.scatter(giris[:,0], giris[:,1], s=400, c = cikis)\n",
        "plt.grid() \n",
        "plt.show()"
      ],
      "metadata": {
        "colab": {
          "base_uri": "https://localhost:8080/",
          "height": 283
        },
        "id": "NReZcr26P6wD",
        "outputId": "74555b14-16db-40c5-fa17-54bcdd91d064"
      },
      "execution_count": 10,
      "outputs": [
        {
          "output_type": "display_data",
          "data": {
            "image/png": "[encoded data removed]",
            "text/plain": [
              "<Figure size 432x288 with 1 Axes>"
            ]
          },
          "metadata": {
            "needs_background": "light"
          }
        }
      ]
    },
    {
      "cell_type": "code",
      "source": [
        "ogrenme_orani = 0.1\n",
        "iter_sayisi = 10\n",
        "\n",
        "\n",
        "w = np.zeros(1 + giris.shape[1])\n",
        "hatalar = []\n",
        "for _ in range(iter_sayisi):\n",
        "  hata = 0\n",
        "  for xi, hedef in zip(giris, cikis):\n",
        "    hesap = np.dot(xi, w[1:]) + w[0]\n",
        "    tahmin = np.where(hesap >= 0.0, 1, 0)\n",
        "    degisim = ogrenme_orani * (hedef - tahmin)\n",
        "    w[1:] += degisim * xi\n",
        "    w[0] += degisim\n",
        "    hata += int(degisim != 0.0)\n",
        "  hatalar.append(hata)"
      ],
      "metadata": {
        "id": "QDrUFqZW6p5v"
      },
      "execution_count": 11,
      "outputs": []
    },
    {
      "cell_type": "code",
      "source": [
        "hatalar"
      ],
      "metadata": {
        "colab": {
          "base_uri": "https://localhost:8080/"
        },
        "id": "QVZKIuxF45H-",
        "outputId": "9c21718a-6cdd-45d7-f709-3e0c608eaf4a"
      },
      "execution_count": 12,
      "outputs": [
        {
          "output_type": "execute_result",
          "data": {
            "text/plain": [
              "[4, 4, 4, 4, 4, 4, 4, 4, 4, 4]"
            ]
          },
          "metadata": {},
          "execution_count": 12
        }
      ]
    },
    {
      "cell_type": "code",
      "source": [
        "w"
      ],
      "metadata": {
        "colab": {
          "base_uri": "https://localhost:8080/"
        },
        "id": "PFywv_8O472b",
        "outputId": "f4d0fc53-a97b-46dd-9d6d-192763621203"
      },
      "execution_count": 13,
      "outputs": [
        {
          "output_type": "execute_result",
          "data": {
            "text/plain": [
              "array([0., 0., 0.])"
            ]
          },
          "metadata": {},
          "execution_count": 13
        }
      ]
    },
    {
      "cell_type": "code",
      "source": [
        "plt.plot(range(1, len(hatalar) + 1), hatalar)\n",
        "plt.xlabel('Deneme No')\n",
        "plt.ylabel('Hatalı tahmin sayısı')\n",
        "plt.show()"
      ],
      "metadata": {
        "colab": {
          "base_uri": "https://localhost:8080/",
          "height": 279
        },
        "id": "R_4EIZEVXJpT",
        "outputId": "47f778e1-3bab-425b-8fe1-c389f04e9a72"
      },
      "execution_count": 14,
      "outputs": [
        {
          "output_type": "display_data",
          "data": {
            "image/png": "[encoded data removed]",
            "text/plain": [
              "<Figure size 432x288 with 1 Axes>"
            ]
          },
          "metadata": {
            "needs_background": "light"
          }
        }
      ]
    }
  ],
  "metadata": {
    "colab": {
      "collapsed_sections": [],
      "name": "The %tensorflow_version magic",
      "provenance": [],
      "include_colab_link": true
    },
    "kernelspec": {
      "display_name": "Python 3",
      "name": "python3"
    }
  },
  "nbformat": 4,
  "nbformat_minor": 0
}